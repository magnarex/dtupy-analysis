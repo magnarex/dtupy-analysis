{
 "cells": [
  {
   "cell_type": "code",
   "execution_count": 1,
   "metadata": {},
   "outputs": [],
   "source": [
    "import sys, os\n",
    "sys.path.insert(1, '/nfs/cms/martialc/DTUpgrade/src')\n",
    "\n",
    "%load_ext autoreload\n",
    "%autoreload 2"
   ]
  },
  {
   "cell_type": "code",
   "execution_count": 2,
   "metadata": {},
   "outputs": [],
   "source": [
    "import pandas as pd\n",
    "import numpy as np\n",
    "import matplotlib.pyplot as plt\n",
    "import matplotlib as mpl\n",
    "from copy import deepcopy\n",
    "from pathlib import Path\n",
    "from tqdm.notebook import tqdm\n",
    "from scipy.optimize import curve_fit\n",
    "import pyarrow as pa\n",
    "import pyarrow.parquet as pq\n",
    "\n",
    "\n",
    "from typing import TYPE_CHECKING\n",
    "\n",
    "if TYPE_CHECKING:\n",
    "    import dtupy_analysis.dqm as dqm\n",
    "# %aimport dtupy_analysis.dqm\n",
    "# dqm = dtupy_analysis.dqm\n",
    "\n",
    "from dtupy_analysis.dqm import units as u\n",
    "from dtupy_analysis.dqm.reco import MuSTIO, MuSGO\n",
    "from dtupy_analysis.utils.memory import Memory"
   ]
  },
  {
   "cell_type": "code",
   "execution_count": null,
   "metadata": {},
   "outputs": [],
   "source": [
    "dataset = 'cosmic_240904_long'\n",
    "# dataset = 'testpulse_240802'\n",
    "output = Path(f'/nfs/cms/martialc/DTUpgrade/data/{dataset}_test.fits')\n",
    "\n",
    "with MuSTIO(dataset, dataset+'_100', batch_size = 1e3) as mustio:\n",
    "    mustio.fit(output, nmax=1, ncores=12)"
   ]
  },
  {
   "cell_type": "code",
   "execution_count": 8,
   "metadata": {},
   "outputs": [
    {
     "data": {
      "application/vnd.jupyter.widget-view+json": {
       "model_id": "aa8f68d3e051449f8fb2382210376543",
       "version_major": 2,
       "version_minor": 0
      },
      "text/plain": [
       "Submitted:   0%|          | 0/300 [00:00<?, ?task(s)/s]"
      ]
     },
     "metadata": {},
     "output_type": "display_data"
    },
    {
     "data": {
      "application/vnd.jupyter.widget-view+json": {
       "model_id": "8171525d6e364078889216e7d0fe4884",
       "version_major": 2,
       "version_minor": 0
      },
      "text/plain": [
       "Completed:   0%|          | 0/300 [00:00<?, ?task(s)/s]"
      ]
     },
     "metadata": {},
     "output_type": "display_data"
    },
    {
     "data": {
      "application/vnd.jupyter.widget-view+json": {
       "model_id": "e9e88768ac154ec78580bff4d59c119b",
       "version_major": 2,
       "version_minor": 0
      },
      "text/plain": [
       "Post-processed:   0%|          | 0/300 [00:00<?, ?task(s)/s]"
      ]
     },
     "metadata": {},
     "output_type": "display_data"
    },
    {
     "name": "stderr",
     "output_type": "stream",
     "text": [
      "/nfs/cms/martialc/DTUpgrade/src/dtupy_analysis/dqm/reco/classes/MuSE.py:190: UserWarning: Multiple minima found in segment 1247, adding T0 bias to chi2\n",
      "  warnings.warn(msg)\n",
      "/nfs/cms/martialc/DTUpgrade/src/dtupy_analysis/dqm/reco/classes/MuSE.py:190: UserWarning: Multiple minima found in segment 153, adding T0 bias to chi2\n",
      "  warnings.warn(msg)\n",
      "/nfs/cms/martialc/DTUpgrade/src/dtupy_analysis/dqm/reco/classes/MuSE.py:190: UserWarning: Multiple minima found in segment 104, adding T0 bias to chi2\n",
      "  warnings.warn(msg)\n",
      "/nfs/cms/martialc/DTUpgrade/src/dtupy_analysis/dqm/reco/classes/MuSE.py:190: UserWarning: Multiple minima found in segment 1257, adding T0 bias to chi2\n",
      "  warnings.warn(msg)\n",
      "/nfs/cms/martialc/DTUpgrade/src/dtupy_analysis/dqm/reco/classes/MuSE.py:190: UserWarning: Multiple minima found in segment 2767, adding T0 bias to chi2\n",
      "  warnings.warn(msg)\n",
      "/nfs/cms/martialc/DTUpgrade/src/dtupy_analysis/dqm/reco/classes/MuSE.py:190: UserWarning: Multiple minima found in segment 2784, adding T0 bias to chi2\n",
      "  warnings.warn(msg)\n",
      "/nfs/cms/martialc/DTUpgrade/src/dtupy_analysis/dqm/reco/classes/MuSE.py:190: UserWarning: Multiple minima found in segment 543, adding T0 bias to chi2\n",
      "  warnings.warn(msg)\n",
      "/nfs/cms/martialc/DTUpgrade/src/dtupy_analysis/dqm/reco/classes/MuSE.py:190: UserWarning: Multiple minima found in segment 1525, adding T0 bias to chi2\n",
      "  warnings.warn(msg)\n",
      "/nfs/cms/martialc/DTUpgrade/src/dtupy_analysis/dqm/reco/classes/MuSE.py:190: UserWarning: Multiple minima found in segment 552, adding T0 bias to chi2\n",
      "  warnings.warn(msg)\n",
      "/nfs/cms/martialc/DTUpgrade/src/dtupy_analysis/dqm/reco/classes/MuSE.py:190: UserWarning: Multiple minima found in segment 1244, adding T0 bias to chi2\n",
      "  warnings.warn(msg)\n",
      "/nfs/cms/martialc/DTUpgrade/src/dtupy_analysis/dqm/reco/classes/MuSE.py:190: UserWarning: Multiple minima found in segment 1247, adding T0 bias to chi2\n",
      "  warnings.warn(msg)\n",
      "/nfs/cms/martialc/DTUpgrade/src/dtupy_analysis/dqm/reco/classes/MuSE.py:190: UserWarning: Multiple minima found in segment 153, adding T0 bias to chi2\n",
      "  warnings.warn(msg)\n",
      "/nfs/cms/martialc/DTUpgrade/src/dtupy_analysis/dqm/reco/classes/MuSE.py:190: UserWarning: Multiple minima found in segment 579, adding T0 bias to chi2\n",
      "  warnings.warn(msg)\n",
      "/nfs/cms/martialc/DTUpgrade/src/dtupy_analysis/dqm/reco/classes/MuSE.py:190: UserWarning: Multiple minima found in segment 238, adding T0 bias to chi2\n",
      "  warnings.warn(msg)\n",
      "/nfs/cms/martialc/DTUpgrade/src/dtupy_analysis/dqm/reco/classes/MuSE.py:190: UserWarning: Multiple minima found in segment 2462, adding T0 bias to chi2\n",
      "  warnings.warn(msg)\n",
      "/nfs/cms/martialc/DTUpgrade/src/dtupy_analysis/dqm/reco/classes/MuSE.py:190: UserWarning: Multiple minima found in segment 856, adding T0 bias to chi2\n",
      "  warnings.warn(msg)\n",
      "/nfs/cms/martialc/DTUpgrade/src/dtupy_analysis/dqm/reco/classes/MuSE.py:190: UserWarning: Multiple minima found in segment 1257, adding T0 bias to chi2\n",
      "  warnings.warn(msg)\n",
      "/nfs/cms/martialc/DTUpgrade/src/dtupy_analysis/dqm/reco/classes/MuSE.py:190: UserWarning: Multiple minima found in segment 588, adding T0 bias to chi2\n",
      "  warnings.warn(msg)\n",
      "/nfs/cms/martialc/DTUpgrade/src/dtupy_analysis/dqm/reco/classes/MuSE.py:190: UserWarning: Multiple minima found in segment 2767, adding T0 bias to chi2\n",
      "  warnings.warn(msg)\n",
      "/nfs/cms/martialc/DTUpgrade/src/dtupy_analysis/dqm/reco/classes/MuSE.py:190: UserWarning: Multiple minima found in segment 1259, adding T0 bias to chi2\n",
      "  warnings.warn(msg)\n",
      "/nfs/cms/martialc/DTUpgrade/src/dtupy_analysis/dqm/reco/classes/MuSE.py:190: UserWarning: Multiple minima found in segment 1545, adding T0 bias to chi2\n",
      "  warnings.warn(msg)\n",
      "/nfs/cms/martialc/DTUpgrade/src/dtupy_analysis/dqm/reco/classes/MuSE.py:190: UserWarning: Multiple minima found in segment 2666, adding T0 bias to chi2\n",
      "  warnings.warn(msg)\n",
      "/nfs/cms/martialc/DTUpgrade/src/dtupy_analysis/dqm/reco/classes/MuSE.py:190: UserWarning: Multiple minima found in segment 864, adding T0 bias to chi2\n",
      "  warnings.warn(msg)\n",
      "/nfs/cms/martialc/DTUpgrade/src/dtupy_analysis/dqm/reco/classes/MuSE.py:190: UserWarning: Multiple minima found in segment 504, adding T0 bias to chi2\n",
      "  warnings.warn(msg)\n",
      "/nfs/cms/martialc/DTUpgrade/src/dtupy_analysis/dqm/reco/classes/MuSE.py:190: UserWarning: Multiple minima found in segment 699, adding T0 bias to chi2\n",
      "  warnings.warn(msg)\n",
      "/nfs/cms/martialc/DTUpgrade/src/dtupy_analysis/dqm/reco/classes/MuSE.py:190: UserWarning: Multiple minima found in segment 506, adding T0 bias to chi2\n",
      "  warnings.warn(msg)\n",
      "/nfs/cms/martialc/DTUpgrade/src/dtupy_analysis/dqm/reco/classes/MuSE.py:190: UserWarning: Multiple minima found in segment 2671, adding T0 bias to chi2\n",
      "  warnings.warn(msg)\n",
      "/nfs/cms/martialc/DTUpgrade/src/dtupy_analysis/dqm/reco/classes/MuSE.py:190: UserWarning: Multiple minima found in segment 2851, adding T0 bias to chi2\n",
      "  warnings.warn(msg)\n",
      "/nfs/cms/martialc/DTUpgrade/src/dtupy_analysis/dqm/reco/classes/MuSE.py:190: UserWarning: Multiple minima found in segment 2323, adding T0 bias to chi2\n",
      "  warnings.warn(msg)\n",
      "/nfs/cms/martialc/DTUpgrade/src/dtupy_analysis/dqm/reco/classes/MuSE.py:190: UserWarning: Multiple minima found in segment 100, adding T0 bias to chi2\n",
      "  warnings.warn(msg)\n",
      "/nfs/cms/martialc/DTUpgrade/src/dtupy_analysis/dqm/reco/classes/MuSE.py:190: UserWarning: Multiple minima found in segment 2479, adding T0 bias to chi2\n",
      "  warnings.warn(msg)\n",
      "/nfs/cms/martialc/DTUpgrade/src/dtupy_analysis/dqm/reco/classes/MuSE.py:190: UserWarning: Multiple minima found in segment 101, adding T0 bias to chi2\n",
      "  warnings.warn(msg)\n",
      "/nfs/cms/martialc/DTUpgrade/src/dtupy_analysis/dqm/reco/classes/MuSE.py:190: UserWarning: Multiple minima found in segment 1188, adding T0 bias to chi2\n",
      "  warnings.warn(msg)\n",
      "/nfs/cms/martialc/DTUpgrade/src/dtupy_analysis/dqm/reco/classes/MuSE.py:190: UserWarning: Multiple minima found in segment 191, adding T0 bias to chi2\n",
      "  warnings.warn(msg)\n",
      "/nfs/cms/martialc/DTUpgrade/src/dtupy_analysis/dqm/reco/classes/MuSE.py:190: UserWarning: Multiple minima found in segment 2590, adding T0 bias to chi2\n",
      "  warnings.warn(msg)\n",
      "/nfs/cms/martialc/DTUpgrade/src/dtupy_analysis/dqm/reco/classes/MuSE.py:190: UserWarning: Multiple minima found in segment 104, adding T0 bias to chi2\n",
      "  warnings.warn(msg)\n",
      "/nfs/cms/martialc/DTUpgrade/src/dtupy_analysis/dqm/reco/classes/MuSE.py:190: UserWarning: Multiple minima found in segment 2493, adding T0 bias to chi2\n",
      "  warnings.warn(msg)\n",
      "/nfs/cms/martialc/DTUpgrade/src/dtupy_analysis/dqm/reco/classes/MuSE.py:190: UserWarning: Multiple minima found in segment 1290, adding T0 bias to chi2\n",
      "  warnings.warn(msg)\n",
      "/nfs/cms/martialc/DTUpgrade/src/dtupy_analysis/dqm/reco/classes/MuSE.py:190: UserWarning: Multiple minima found in segment 2784, adding T0 bias to chi2\n",
      "  warnings.warn(msg)\n",
      "/nfs/cms/martialc/DTUpgrade/src/dtupy_analysis/dqm/reco/classes/MuSE.py:190: UserWarning: Multiple minima found in segment 2864, adding T0 bias to chi2\n",
      "  warnings.warn(msg)\n",
      "/nfs/cms/martialc/DTUpgrade/src/dtupy_analysis/dqm/reco/classes/MuSE.py:190: UserWarning: Multiple minima found in segment 543, adding T0 bias to chi2\n",
      "  warnings.warn(msg)\n",
      "/nfs/cms/martialc/DTUpgrade/src/dtupy_analysis/dqm/reco/classes/MuSE.py:190: UserWarning: Multiple minima found in segment 1204, adding T0 bias to chi2\n",
      "  warnings.warn(msg)\n",
      "/nfs/cms/martialc/DTUpgrade/src/dtupy_analysis/dqm/reco/classes/MuSE.py:190: UserWarning: Multiple minima found in segment 2340, adding T0 bias to chi2\n",
      "  warnings.warn(msg)\n",
      "/nfs/cms/martialc/DTUpgrade/src/dtupy_analysis/dqm/reco/classes/MuSE.py:190: UserWarning: Multiple minima found in segment 119, adding T0 bias to chi2\n",
      "  warnings.warn(msg)\n",
      "/nfs/cms/martialc/DTUpgrade/src/dtupy_analysis/dqm/reco/classes/MuSE.py:190: UserWarning: Multiple minima found in segment 1381, adding T0 bias to chi2\n",
      "  warnings.warn(msg)\n",
      "/nfs/cms/martialc/DTUpgrade/src/dtupy_analysis/dqm/reco/classes/MuSE.py:190: UserWarning: Multiple minima found in segment 2508, adding T0 bias to chi2\n",
      "  warnings.warn(msg)\n",
      "/nfs/cms/martialc/DTUpgrade/src/dtupy_analysis/dqm/reco/classes/MuSE.py:190: UserWarning: Multiple minima found in segment 121, adding T0 bias to chi2\n",
      "  warnings.warn(msg)\n",
      "/nfs/cms/martialc/DTUpgrade/src/dtupy_analysis/dqm/reco/classes/MuSE.py:190: UserWarning: Multiple minima found in segment 552, adding T0 bias to chi2\n",
      "  warnings.warn(msg)\n",
      "/nfs/cms/martialc/DTUpgrade/src/dtupy_analysis/dqm/reco/classes/MuSE.py:190: UserWarning: Multiple minima found in segment 1304, adding T0 bias to chi2\n",
      "  warnings.warn(msg)\n",
      "/nfs/cms/martialc/DTUpgrade/src/dtupy_analysis/dqm/reco/classes/MuSE.py:190: UserWarning: Multiple minima found in segment 238, adding T0 bias to chi2\n",
      "  warnings.warn(msg)\n",
      "/nfs/cms/martialc/DTUpgrade/src/dtupy_analysis/dqm/reco/classes/MuSE.py:190: UserWarning: Multiple minima found in segment 2428, adding T0 bias to chi2\n",
      "  warnings.warn(msg)\n",
      "/nfs/cms/martialc/DTUpgrade/src/dtupy_analysis/dqm/reco/classes/MuSE.py:190: UserWarning: Multiple minima found in segment 1384, adding T0 bias to chi2\n",
      "  warnings.warn(msg)\n",
      "/nfs/cms/martialc/DTUpgrade/src/dtupy_analysis/dqm/reco/classes/MuSE.py:190: UserWarning: Multiple minima found in segment 2851, adding T0 bias to chi2\n",
      "  warnings.warn(msg)\n",
      "/nfs/cms/martialc/DTUpgrade/src/dtupy_analysis/dqm/reco/classes/MuSE.py:190: UserWarning: Multiple minima found in segment 2615, adding T0 bias to chi2\n",
      "  warnings.warn(msg)\n",
      "/nfs/cms/martialc/DTUpgrade/src/dtupy_analysis/dqm/reco/classes/MuSE.py:190: UserWarning: Multiple minima found in segment 2864, adding T0 bias to chi2\n",
      "  warnings.warn(msg)\n",
      "/nfs/cms/martialc/DTUpgrade/src/dtupy_analysis/dqm/reco/classes/MuSE.py:190: UserWarning: Multiple minima found in segment 579, adding T0 bias to chi2\n",
      "  warnings.warn(msg)\n",
      "/nfs/cms/martialc/DTUpgrade/src/dtupy_analysis/dqm/reco/classes/MuSE.py:190: UserWarning: Multiple minima found in segment 191, adding T0 bias to chi2\n",
      "  warnings.warn(msg)\n",
      "/nfs/cms/martialc/DTUpgrade/src/dtupy_analysis/dqm/reco/classes/MuSE.py:190: UserWarning: Multiple minima found in segment 588, adding T0 bias to chi2\n",
      "  warnings.warn(msg)\n",
      "/nfs/cms/martialc/DTUpgrade/src/dtupy_analysis/dqm/reco/classes/MuSE.py:190: UserWarning: Multiple minima found in segment 2909, adding T0 bias to chi2\n",
      "  warnings.warn(msg)\n",
      "/nfs/cms/martialc/DTUpgrade/src/dtupy_analysis/dqm/reco/classes/MuSE.py:190: UserWarning: Multiple minima found in segment 2910, adding T0 bias to chi2\n",
      "  warnings.warn(msg)\n",
      "/nfs/cms/martialc/DTUpgrade/src/dtupy_analysis/dqm/reco/classes/MuSE.py:190: UserWarning: Multiple minima found in segment 1396, adding T0 bias to chi2\n",
      "  warnings.warn(msg)\n",
      "/nfs/cms/martialc/DTUpgrade/src/dtupy_analysis/dqm/reco/classes/MuSE.py:190: UserWarning: Multiple minima found in segment 1397, adding T0 bias to chi2\n",
      "  warnings.warn(msg)\n",
      "/nfs/cms/martialc/DTUpgrade/src/dtupy_analysis/dqm/reco/classes/MuSE.py:190: UserWarning: Multiple minima found in segment 3333, adding T0 bias to chi2\n",
      "  warnings.warn(msg)\n",
      "/nfs/cms/martialc/DTUpgrade/src/dtupy_analysis/dqm/reco/classes/MuSE.py:190: UserWarning: Multiple minima found in segment 1384, adding T0 bias to chi2\n",
      "  warnings.warn(msg)\n",
      "/nfs/cms/martialc/DTUpgrade/src/dtupy_analysis/dqm/reco/classes/MuSE.py:190: UserWarning: Multiple minima found in segment 2987, adding T0 bias to chi2\n",
      "  warnings.warn(msg)\n",
      "/nfs/cms/martialc/DTUpgrade/src/dtupy_analysis/dqm/reco/classes/MuSE.py:190: UserWarning: Multiple minima found in segment 1397, adding T0 bias to chi2\n",
      "  warnings.warn(msg)\n",
      "/nfs/cms/martialc/DTUpgrade/src/dtupy_analysis/dqm/reco/classes/MuSE.py:190: UserWarning: Multiple minima found in segment 2444, adding T0 bias to chi2\n",
      "  warnings.warn(msg)\n",
      "/nfs/cms/martialc/DTUpgrade/src/dtupy_analysis/dqm/reco/classes/MuSE.py:190: UserWarning: Multiple minima found in segment 3353, adding T0 bias to chi2\n",
      "  warnings.warn(msg)\n",
      "/nfs/cms/martialc/DTUpgrade/src/dtupy_analysis/dqm/reco/classes/MuSE.py:190: UserWarning: Multiple minima found in segment 3333, adding T0 bias to chi2\n",
      "  warnings.warn(msg)\n",
      "/nfs/cms/martialc/DTUpgrade/src/dtupy_analysis/dqm/reco/classes/MuSE.py:190: UserWarning: Multiple minima found in segment 4139, adding T0 bias to chi2\n",
      "  warnings.warn(msg)\n",
      "/nfs/cms/martialc/DTUpgrade/src/dtupy_analysis/dqm/reco/classes/MuSE.py:190: UserWarning: Multiple minima found in segment 3000, adding T0 bias to chi2\n",
      "  warnings.warn(msg)\n",
      "/nfs/cms/martialc/DTUpgrade/src/dtupy_analysis/dqm/reco/classes/MuSE.py:190: UserWarning: Multiple minima found in segment 3938, adding T0 bias to chi2\n",
      "  warnings.warn(msg)\n",
      "/nfs/cms/martialc/DTUpgrade/src/dtupy_analysis/dqm/reco/classes/MuSE.py:190: UserWarning: Multiple minima found in segment 4153, adding T0 bias to chi2\n",
      "  warnings.warn(msg)\n",
      "/nfs/cms/martialc/DTUpgrade/src/dtupy_analysis/dqm/reco/classes/MuSE.py:190: UserWarning: Multiple minima found in segment 3952, adding T0 bias to chi2\n",
      "  warnings.warn(msg)\n",
      "/nfs/cms/martialc/DTUpgrade/src/dtupy_analysis/dqm/reco/classes/MuSE.py:190: UserWarning: Multiple minima found in segment 4474, adding T0 bias to chi2\n",
      "  warnings.warn(msg)\n",
      "/nfs/cms/martialc/DTUpgrade/src/dtupy_analysis/dqm/reco/classes/MuSE.py:190: UserWarning: Multiple minima found in segment 4490, adding T0 bias to chi2\n",
      "  warnings.warn(msg)\n",
      "/nfs/cms/martialc/DTUpgrade/src/dtupy_analysis/dqm/reco/classes/MuSE.py:190: UserWarning: Multiple minima found in segment 3424, adding T0 bias to chi2\n",
      "  warnings.warn(msg)\n",
      "/nfs/cms/martialc/DTUpgrade/src/dtupy_analysis/dqm/reco/classes/MuSE.py:190: UserWarning: Multiple minima found in segment 3353, adding T0 bias to chi2\n",
      "  warnings.warn(msg)\n",
      "/nfs/cms/martialc/DTUpgrade/src/dtupy_analysis/dqm/reco/classes/MuSE.py:190: UserWarning: Multiple minima found in segment 5185, adding T0 bias to chi2\n",
      "  warnings.warn(msg)\n",
      "/nfs/cms/martialc/DTUpgrade/src/dtupy_analysis/dqm/reco/classes/MuSE.py:190: UserWarning: Multiple minima found in segment 4174, adding T0 bias to chi2\n",
      "  warnings.warn(msg)\n",
      "/nfs/cms/martialc/DTUpgrade/src/dtupy_analysis/dqm/reco/classes/MuSE.py:190: UserWarning: Multiple minima found in segment 5192, adding T0 bias to chi2\n",
      "  warnings.warn(msg)\n",
      "/nfs/cms/martialc/DTUpgrade/src/dtupy_analysis/dqm/reco/classes/MuSE.py:190: UserWarning: Multiple minima found in segment 4273, adding T0 bias to chi2\n",
      "  warnings.warn(msg)\n",
      "/nfs/cms/martialc/DTUpgrade/src/dtupy_analysis/dqm/reco/classes/MuSE.py:190: UserWarning: Multiple minima found in segment 4474, adding T0 bias to chi2\n",
      "  warnings.warn(msg)\n",
      "/nfs/cms/martialc/DTUpgrade/src/dtupy_analysis/dqm/reco/classes/MuSE.py:190: UserWarning: Multiple minima found in segment 5497, adding T0 bias to chi2\n",
      "  warnings.warn(msg)\n",
      "/nfs/cms/martialc/DTUpgrade/src/dtupy_analysis/dqm/reco/classes/MuSE.py:190: UserWarning: Multiple minima found in segment 5216, adding T0 bias to chi2\n",
      "  warnings.warn(msg)\n",
      "/nfs/cms/martialc/DTUpgrade/src/dtupy_analysis/dqm/reco/classes/MuSE.py:190: UserWarning: Multiple minima found in segment 5224, adding T0 bias to chi2\n",
      "  warnings.warn(msg)\n",
      "/nfs/cms/martialc/DTUpgrade/src/dtupy_analysis/dqm/reco/classes/MuSE.py:190: UserWarning: Multiple minima found in segment 3938, adding T0 bias to chi2\n",
      "  warnings.warn(msg)\n",
      "/nfs/cms/martialc/DTUpgrade/src/dtupy_analysis/dqm/reco/classes/MuSE.py:190: UserWarning: Multiple minima found in segment 3449, adding T0 bias to chi2\n",
      "  warnings.warn(msg)\n",
      "/nfs/cms/martialc/DTUpgrade/src/dtupy_analysis/dqm/reco/classes/MuSE.py:190: UserWarning: Multiple minima found in segment 3581, adding T0 bias to chi2\n",
      "  warnings.warn(msg)\n",
      "/nfs/cms/martialc/DTUpgrade/src/dtupy_analysis/dqm/reco/classes/MuSE.py:190: UserWarning: Multiple minima found in segment 4193, adding T0 bias to chi2\n",
      "  warnings.warn(msg)\n",
      "/nfs/cms/martialc/DTUpgrade/src/dtupy_analysis/dqm/reco/classes/MuSE.py:190: UserWarning: Multiple minima found in segment 4288, adding T0 bias to chi2\n",
      "  warnings.warn(msg)\n",
      "/nfs/cms/martialc/DTUpgrade/src/dtupy_analysis/dqm/reco/classes/MuSE.py:190: UserWarning: Multiple minima found in segment 4490, adding T0 bias to chi2\n",
      "  warnings.warn(msg)\n",
      "/nfs/cms/martialc/DTUpgrade/src/dtupy_analysis/dqm/reco/classes/MuSE.py:190: UserWarning: Multiple minima found in segment 3584, adding T0 bias to chi2\n",
      "  warnings.warn(msg)\n",
      "/nfs/cms/martialc/DTUpgrade/src/dtupy_analysis/dqm/reco/classes/MuSE.py:190: UserWarning: Multiple minima found in segment 4139, adding T0 bias to chi2\n",
      "  warnings.warn(msg)\n",
      "/nfs/cms/martialc/DTUpgrade/src/dtupy_analysis/dqm/reco/classes/MuSE.py:190: UserWarning: Multiple minima found in segment 3952, adding T0 bias to chi2\n",
      "  warnings.warn(msg)\n",
      "/nfs/cms/martialc/DTUpgrade/src/dtupy_analysis/dqm/reco/classes/MuSE.py:190: UserWarning: Multiple minima found in segment 3424, adding T0 bias to chi2\n",
      "  warnings.warn(msg)\n",
      "/nfs/cms/martialc/DTUpgrade/src/dtupy_analysis/dqm/reco/classes/MuSE.py:190: UserWarning: Multiple minima found in segment 5497, adding T0 bias to chi2\n",
      "  warnings.warn(msg)\n",
      "/nfs/cms/martialc/DTUpgrade/src/dtupy_analysis/dqm/reco/classes/MuSE.py:190: UserWarning: Multiple minima found in segment 4400, adding T0 bias to chi2\n",
      "  warnings.warn(msg)\n",
      "/nfs/cms/martialc/DTUpgrade/src/dtupy_analysis/dqm/reco/classes/MuSE.py:190: UserWarning: Multiple minima found in segment 4040, adding T0 bias to chi2\n",
      "  warnings.warn(msg)\n"
     ]
    },
    {
     "ename": "KeyboardInterrupt",
     "evalue": "",
     "output_type": "error",
     "traceback": [
      "\u001b[0;31m---------------------------------------------------------------------------\u001b[0m",
      "\u001b[0;31mKeyboardInterrupt\u001b[0m                         Traceback (most recent call last)",
      "Cell \u001b[0;32mIn[8], line 2\u001b[0m\n\u001b[1;32m      1\u001b[0m \u001b[38;5;28;01mwith\u001b[39;00m MuSTIO(dataset, batch_size \u001b[38;5;241m=\u001b[39m \u001b[38;5;241m1e3\u001b[39m) \u001b[38;5;28;01mas\u001b[39;00m mustio:\n\u001b[0;32m----> 2\u001b[0m     \u001b[43mmustio\u001b[49m\u001b[38;5;241;43m.\u001b[39;49m\u001b[43mfit\u001b[49m\u001b[43m(\u001b[49m\u001b[43moutput\u001b[49m\u001b[43m,\u001b[49m\u001b[43m \u001b[49m\u001b[43mnmax\u001b[49m\u001b[43m \u001b[49m\u001b[38;5;241;43m=\u001b[39;49m\u001b[43m \u001b[49m\u001b[38;5;241;43m300\u001b[39;49m\u001b[43m)\u001b[49m\n",
      "File \u001b[0;32m/nfs/cms/martialc/DTUpgrade/src/dtupy_analysis/dqm/reco/classes/MuSTIO.py:133\u001b[0m, in \u001b[0;36mMuSTIO.fit\u001b[0;34m(self, output_path, min_hits, ncores, nmax, debug)\u001b[0m\n\u001b[1;32m    132\u001b[0m exe\u001b[38;5;241m.\u001b[39mclose()\n\u001b[0;32m--> 133\u001b[0m \u001b[43mexe\u001b[49m\u001b[38;5;241;43m.\u001b[39;49m\u001b[43mjoin\u001b[49m\u001b[43m(\u001b[49m\u001b[43m)\u001b[49m\n\u001b[1;32m    135\u001b[0m \u001b[38;5;28mself\u001b[39m\u001b[38;5;241m.\u001b[39m_pqwriter\u001b[38;5;241m.\u001b[39mclose()\n",
      "File \u001b[0;32m/nfs/cms/martialc/.conda/envs/dtupy-analysis/lib/python3.11/multiprocessing/pool.py:665\u001b[0m, in \u001b[0;36mPool.join\u001b[0;34m(self)\u001b[0m\n\u001b[1;32m    664\u001b[0m     \u001b[38;5;28;01mraise\u001b[39;00m \u001b[38;5;167;01mValueError\u001b[39;00m(\u001b[38;5;124m\"\u001b[39m\u001b[38;5;124mIn unknown state\u001b[39m\u001b[38;5;124m\"\u001b[39m)\n\u001b[0;32m--> 665\u001b[0m \u001b[38;5;28;43mself\u001b[39;49m\u001b[38;5;241;43m.\u001b[39;49m\u001b[43m_worker_handler\u001b[49m\u001b[38;5;241;43m.\u001b[39;49m\u001b[43mjoin\u001b[49m\u001b[43m(\u001b[49m\u001b[43m)\u001b[49m\n\u001b[1;32m    666\u001b[0m \u001b[38;5;28mself\u001b[39m\u001b[38;5;241m.\u001b[39m_task_handler\u001b[38;5;241m.\u001b[39mjoin()\n",
      "File \u001b[0;32m/nfs/cms/martialc/.conda/envs/dtupy-analysis/lib/python3.11/threading.py:1119\u001b[0m, in \u001b[0;36mThread.join\u001b[0;34m(self, timeout)\u001b[0m\n\u001b[1;32m   1118\u001b[0m \u001b[38;5;28;01mif\u001b[39;00m timeout \u001b[38;5;129;01mis\u001b[39;00m \u001b[38;5;28;01mNone\u001b[39;00m:\n\u001b[0;32m-> 1119\u001b[0m     \u001b[38;5;28;43mself\u001b[39;49m\u001b[38;5;241;43m.\u001b[39;49m\u001b[43m_wait_for_tstate_lock\u001b[49m\u001b[43m(\u001b[49m\u001b[43m)\u001b[49m\n\u001b[1;32m   1120\u001b[0m \u001b[38;5;28;01melse\u001b[39;00m:\n\u001b[1;32m   1121\u001b[0m     \u001b[38;5;66;03m# the behavior of a negative timeout isn't documented, but\u001b[39;00m\n\u001b[1;32m   1122\u001b[0m     \u001b[38;5;66;03m# historically .join(timeout=x) for x<0 has acted as if timeout=0\u001b[39;00m\n",
      "File \u001b[0;32m/nfs/cms/martialc/.conda/envs/dtupy-analysis/lib/python3.11/threading.py:1139\u001b[0m, in \u001b[0;36mThread._wait_for_tstate_lock\u001b[0;34m(self, block, timeout)\u001b[0m\n\u001b[1;32m   1138\u001b[0m \u001b[38;5;28;01mtry\u001b[39;00m:\n\u001b[0;32m-> 1139\u001b[0m     \u001b[38;5;28;01mif\u001b[39;00m \u001b[43mlock\u001b[49m\u001b[38;5;241;43m.\u001b[39;49m\u001b[43macquire\u001b[49m\u001b[43m(\u001b[49m\u001b[43mblock\u001b[49m\u001b[43m,\u001b[49m\u001b[43m \u001b[49m\u001b[43mtimeout\u001b[49m\u001b[43m)\u001b[49m:\n\u001b[1;32m   1140\u001b[0m         lock\u001b[38;5;241m.\u001b[39mrelease()\n",
      "\u001b[0;31mKeyboardInterrupt\u001b[0m: ",
      "\nDuring handling of the above exception, another exception occurred:\n",
      "\u001b[0;31mKeyboardInterrupt\u001b[0m                         Traceback (most recent call last)",
      "Cell \u001b[0;32mIn[8], line 1\u001b[0m\n\u001b[0;32m----> 1\u001b[0m \u001b[38;5;28;43;01mwith\u001b[39;49;00m\u001b[43m \u001b[49m\u001b[43mMuSTIO\u001b[49m\u001b[43m(\u001b[49m\u001b[43mdataset\u001b[49m\u001b[43m,\u001b[49m\u001b[43m \u001b[49m\u001b[43mbatch_size\u001b[49m\u001b[43m \u001b[49m\u001b[38;5;241;43m=\u001b[39;49m\u001b[43m \u001b[49m\u001b[38;5;241;43m1e3\u001b[39;49m\u001b[43m)\u001b[49m\u001b[43m \u001b[49m\u001b[38;5;28;43;01mas\u001b[39;49;00m\u001b[43m \u001b[49m\u001b[43mmustio\u001b[49m\u001b[43m:\u001b[49m\n\u001b[1;32m      2\u001b[0m \u001b[43m    \u001b[49m\u001b[43mmustio\u001b[49m\u001b[38;5;241;43m.\u001b[39;49m\u001b[43mfit\u001b[49m\u001b[43m(\u001b[49m\u001b[43moutput\u001b[49m\u001b[43m,\u001b[49m\u001b[43m \u001b[49m\u001b[43mnmax\u001b[49m\u001b[43m \u001b[49m\u001b[38;5;241;43m=\u001b[39;49m\u001b[43m \u001b[49m\u001b[38;5;241;43m300\u001b[39;49m\u001b[43m)\u001b[49m\n",
      "File \u001b[0;32m/nfs/cms/martialc/DTUpgrade/src/dtupy_analysis/dqm/core/classes/MuFile.py:61\u001b[0m, in \u001b[0;36mMuFile.__exit__\u001b[0;34m(self, exc_type, exc_val, exc_tb)\u001b[0m\n\u001b[1;32m     59\u001b[0m \u001b[38;5;28;01mdef\u001b[39;00m \u001b[38;5;21m__exit__\u001b[39m(\u001b[38;5;28mself\u001b[39m, exc_type : \u001b[38;5;167;01mException\u001b[39;00m, exc_val, exc_tb):\n\u001b[1;32m     60\u001b[0m     \u001b[38;5;28;01mif\u001b[39;00m exc_type:\n\u001b[0;32m---> 61\u001b[0m         \u001b[38;5;28;01mraise\u001b[39;00m exc_type(exc_val)\u001b[38;5;241m.\u001b[39mwith_traceback(exc_tb)\n\u001b[1;32m     63\u001b[0m     \u001b[38;5;28mself\u001b[39m\u001b[38;5;241m.\u001b[39m_parquet\u001b[38;5;241m.\u001b[39mclose()\n\u001b[1;32m     64\u001b[0m     \u001b[38;5;28;01mreturn\u001b[39;00m \u001b[38;5;28mself\u001b[39m\u001b[38;5;241m.\u001b[39m_parquet\u001b[38;5;241m.\u001b[39mclosed\n",
      "Cell \u001b[0;32mIn[8], line 2\u001b[0m\n\u001b[1;32m      1\u001b[0m \u001b[38;5;28;01mwith\u001b[39;00m MuSTIO(dataset, batch_size \u001b[38;5;241m=\u001b[39m \u001b[38;5;241m1e3\u001b[39m) \u001b[38;5;28;01mas\u001b[39;00m mustio:\n\u001b[0;32m----> 2\u001b[0m     \u001b[43mmustio\u001b[49m\u001b[38;5;241;43m.\u001b[39;49m\u001b[43mfit\u001b[49m\u001b[43m(\u001b[49m\u001b[43moutput\u001b[49m\u001b[43m,\u001b[49m\u001b[43m \u001b[49m\u001b[43mnmax\u001b[49m\u001b[43m \u001b[49m\u001b[38;5;241;43m=\u001b[39;49m\u001b[43m \u001b[49m\u001b[38;5;241;43m300\u001b[39;49m\u001b[43m)\u001b[49m\n",
      "File \u001b[0;32m/nfs/cms/martialc/DTUpgrade/src/dtupy_analysis/dqm/reco/classes/MuSTIO.py:133\u001b[0m, in \u001b[0;36mMuSTIO.fit\u001b[0;34m(self, output_path, min_hits, ncores, nmax, debug)\u001b[0m\n\u001b[1;32m    130\u001b[0m     proc_bar\u001b[38;5;241m.\u001b[39mrefresh()\n\u001b[1;32m    132\u001b[0m exe\u001b[38;5;241m.\u001b[39mclose()\n\u001b[0;32m--> 133\u001b[0m \u001b[43mexe\u001b[49m\u001b[38;5;241;43m.\u001b[39;49m\u001b[43mjoin\u001b[49m\u001b[43m(\u001b[49m\u001b[43m)\u001b[49m\n\u001b[1;32m    135\u001b[0m \u001b[38;5;28mself\u001b[39m\u001b[38;5;241m.\u001b[39m_pqwriter\u001b[38;5;241m.\u001b[39mclose()\n",
      "File \u001b[0;32m/nfs/cms/martialc/.conda/envs/dtupy-analysis/lib/python3.11/multiprocessing/pool.py:665\u001b[0m, in \u001b[0;36mPool.join\u001b[0;34m(self)\u001b[0m\n\u001b[1;32m    663\u001b[0m \u001b[38;5;28;01melif\u001b[39;00m \u001b[38;5;28mself\u001b[39m\u001b[38;5;241m.\u001b[39m_state \u001b[38;5;129;01mnot\u001b[39;00m \u001b[38;5;129;01min\u001b[39;00m (CLOSE, TERMINATE):\n\u001b[1;32m    664\u001b[0m     \u001b[38;5;28;01mraise\u001b[39;00m \u001b[38;5;167;01mValueError\u001b[39;00m(\u001b[38;5;124m\"\u001b[39m\u001b[38;5;124mIn unknown state\u001b[39m\u001b[38;5;124m\"\u001b[39m)\n\u001b[0;32m--> 665\u001b[0m \u001b[38;5;28;43mself\u001b[39;49m\u001b[38;5;241;43m.\u001b[39;49m\u001b[43m_worker_handler\u001b[49m\u001b[38;5;241;43m.\u001b[39;49m\u001b[43mjoin\u001b[49m\u001b[43m(\u001b[49m\u001b[43m)\u001b[49m\n\u001b[1;32m    666\u001b[0m \u001b[38;5;28mself\u001b[39m\u001b[38;5;241m.\u001b[39m_task_handler\u001b[38;5;241m.\u001b[39mjoin()\n\u001b[1;32m    667\u001b[0m \u001b[38;5;28mself\u001b[39m\u001b[38;5;241m.\u001b[39m_result_handler\u001b[38;5;241m.\u001b[39mjoin()\n",
      "File \u001b[0;32m/nfs/cms/martialc/.conda/envs/dtupy-analysis/lib/python3.11/threading.py:1119\u001b[0m, in \u001b[0;36mThread.join\u001b[0;34m(self, timeout)\u001b[0m\n\u001b[1;32m   1116\u001b[0m     \u001b[38;5;28;01mraise\u001b[39;00m \u001b[38;5;167;01mRuntimeError\u001b[39;00m(\u001b[38;5;124m\"\u001b[39m\u001b[38;5;124mcannot join current thread\u001b[39m\u001b[38;5;124m\"\u001b[39m)\n\u001b[1;32m   1118\u001b[0m \u001b[38;5;28;01mif\u001b[39;00m timeout \u001b[38;5;129;01mis\u001b[39;00m \u001b[38;5;28;01mNone\u001b[39;00m:\n\u001b[0;32m-> 1119\u001b[0m     \u001b[38;5;28;43mself\u001b[39;49m\u001b[38;5;241;43m.\u001b[39;49m\u001b[43m_wait_for_tstate_lock\u001b[49m\u001b[43m(\u001b[49m\u001b[43m)\u001b[49m\n\u001b[1;32m   1120\u001b[0m \u001b[38;5;28;01melse\u001b[39;00m:\n\u001b[1;32m   1121\u001b[0m     \u001b[38;5;66;03m# the behavior of a negative timeout isn't documented, but\u001b[39;00m\n\u001b[1;32m   1122\u001b[0m     \u001b[38;5;66;03m# historically .join(timeout=x) for x<0 has acted as if timeout=0\u001b[39;00m\n\u001b[1;32m   1123\u001b[0m     \u001b[38;5;28mself\u001b[39m\u001b[38;5;241m.\u001b[39m_wait_for_tstate_lock(timeout\u001b[38;5;241m=\u001b[39m\u001b[38;5;28mmax\u001b[39m(timeout, \u001b[38;5;241m0\u001b[39m))\n",
      "File \u001b[0;32m/nfs/cms/martialc/.conda/envs/dtupy-analysis/lib/python3.11/threading.py:1139\u001b[0m, in \u001b[0;36mThread._wait_for_tstate_lock\u001b[0;34m(self, block, timeout)\u001b[0m\n\u001b[1;32m   1136\u001b[0m     \u001b[38;5;28;01mreturn\u001b[39;00m\n\u001b[1;32m   1138\u001b[0m \u001b[38;5;28;01mtry\u001b[39;00m:\n\u001b[0;32m-> 1139\u001b[0m     \u001b[38;5;28;01mif\u001b[39;00m \u001b[43mlock\u001b[49m\u001b[38;5;241;43m.\u001b[39;49m\u001b[43macquire\u001b[49m\u001b[43m(\u001b[49m\u001b[43mblock\u001b[49m\u001b[43m,\u001b[49m\u001b[43m \u001b[49m\u001b[43mtimeout\u001b[49m\u001b[43m)\u001b[49m:\n\u001b[1;32m   1140\u001b[0m         lock\u001b[38;5;241m.\u001b[39mrelease()\n\u001b[1;32m   1141\u001b[0m         \u001b[38;5;28mself\u001b[39m\u001b[38;5;241m.\u001b[39m_stop()\n",
      "\u001b[0;31mKeyboardInterrupt\u001b[0m: "
     ]
    }
   ],
   "source": [
    "with MuSTIO(dataset, batch_size = 1e3) as mustio:\n",
    "    mustio.fit(output, nmax = 300)"
   ]
  },
  {
   "cell_type": "code",
   "execution_count": 5,
   "metadata": {},
   "outputs": [
    {
     "data": {
      "application/vnd.jupyter.widget-view+json": {
       "model_id": "78160fbc698d41e8a498f8e25030371d",
       "version_major": 2,
       "version_minor": 0
      },
      "text/plain": [
       "  0%|          | 0/30 [00:00<?, ?it/s]"
      ]
     },
     "metadata": {},
     "output_type": "display_data"
    },
    {
     "ename": "ValueError",
     "evalue": "If using all scalar values, you must pass an index",
     "output_type": "error",
     "traceback": [
      "\u001b[0;31m---------------------------------------------------------------------------\u001b[0m",
      "\u001b[0;31mValueError\u001b[0m                                Traceback (most recent call last)",
      "Cell \u001b[0;32mIn[5], line 13\u001b[0m\n\u001b[1;32m     12\u001b[0m musgos\u001b[38;5;241m.\u001b[39mappend(musgo)\n\u001b[0;32m---> 13\u001b[0m df \u001b[38;5;241m=\u001b[39m musgo\u001b[38;5;241m.\u001b[39mflatten()\n\u001b[1;32m     14\u001b[0m skip_rows \u001b[38;5;241m=\u001b[39m np\u001b[38;5;241m.\u001b[39misin(df\u001b[38;5;241m.\u001b[39mhits, mustio\u001b[38;5;241m.\u001b[39mmemory\u001b[38;5;241m.\u001b[39mhits)\n",
      "File \u001b[0;32m/nfs/cms/martialc/DTUpgrade/src/dtupy_analysis/dqm/reco/classes/MuSGO.py:110\u001b[0m, in \u001b[0;36mMuSGO.flatten\u001b[0;34m(self)\u001b[0m\n\u001b[1;32m    109\u001b[0m \u001b[38;5;28;01mdef\u001b[39;00m \u001b[38;5;21mflatten\u001b[39m(\u001b[38;5;28mself\u001b[39m):\n\u001b[0;32m--> 110\u001b[0m     df \u001b[38;5;241m=\u001b[39m pd\u001b[38;5;241m.\u001b[39mconcat([muse\u001b[38;5;241m.\u001b[39mflatten() \u001b[38;5;28;01mfor\u001b[39;00m muse \u001b[38;5;129;01min\u001b[39;00m \u001b[38;5;28mself\u001b[39m\u001b[38;5;241m.\u001b[39mmuses], ignore_index\u001b[38;5;241m=\u001b[39m\u001b[38;5;28;01mTrue\u001b[39;00m)\\\n\u001b[1;32m    111\u001b[0m                 \u001b[38;5;241m.\u001b[39mdrop_duplicates(\u001b[38;5;124m'\u001b[39m\u001b[38;5;124mseg_idx\u001b[39m\u001b[38;5;124m'\u001b[39m)\\\n\u001b[1;32m    112\u001b[0m                 \u001b[38;5;241m.\u001b[39mastype({\u001b[38;5;124m'\u001b[39m\u001b[38;5;124mpattID\u001b[39m\u001b[38;5;124m'\u001b[39m:\u001b[38;5;124m'\u001b[39m\u001b[38;5;124mcategory\u001b[39m\u001b[38;5;124m'\u001b[39m})\n\u001b[1;32m    114\u001b[0m     \u001b[38;5;28;01mif\u001b[39;00m \u001b[38;5;124m'\u001b[39m\u001b[38;5;124mlatsID\u001b[39m\u001b[38;5;124m'\u001b[39m \u001b[38;5;129;01min\u001b[39;00m df\u001b[38;5;241m.\u001b[39mcolumns: df \u001b[38;5;241m=\u001b[39m df\u001b[38;5;241m.\u001b[39mastype({\u001b[38;5;124m'\u001b[39m\u001b[38;5;124mlatsID\u001b[39m\u001b[38;5;124m'\u001b[39m:\u001b[38;5;124m'\u001b[39m\u001b[38;5;124mcategory\u001b[39m\u001b[38;5;124m'\u001b[39m})\n",
      "File \u001b[0;32m/nfs/cms/martialc/DTUpgrade/src/dtupy_analysis/dqm/reco/classes/MuSE.py:222\u001b[0m, in \u001b[0;36mMuSE.flatten\u001b[0;34m(self)\u001b[0m\n\u001b[1;32m    221\u001b[0m \u001b[38;5;28;01mif\u001b[39;00m \u001b[38;5;28mself\u001b[39m\u001b[38;5;241m.\u001b[39mstats \u001b[38;5;129;01mis\u001b[39;00m \u001b[38;5;129;01mnot\u001b[39;00m \u001b[38;5;28;01mNone\u001b[39;00m:\n\u001b[0;32m--> 222\u001b[0m     df \u001b[38;5;241m=\u001b[39m pd\u001b[38;5;241m.\u001b[39mconcat([pd\u001b[38;5;241m.\u001b[39mDataFrame(new_dict), \u001b[38;5;28mself\u001b[39m\u001b[38;5;241m.\u001b[39mbest_fit\u001b[38;5;241m.\u001b[39mreset_index(drop\u001b[38;5;241m=\u001b[39m\u001b[38;5;28;01mTrue\u001b[39;00m)\u001b[38;5;241m.\u001b[39mdrop(columns\u001b[38;5;241m=\u001b[39m[\u001b[38;5;124m'\u001b[39m\u001b[38;5;124mseg_idx\u001b[39m\u001b[38;5;124m'\u001b[39m])], axis\u001b[38;5;241m=\u001b[39m\u001b[38;5;241m1\u001b[39m)\u001b[38;5;241m.\u001b[39mastype({\u001b[38;5;124m'\u001b[39m\u001b[38;5;124mlatsID\u001b[39m\u001b[38;5;124m'\u001b[39m:\u001b[38;5;28mstr\u001b[39m})\n\u001b[1;32m    223\u001b[0m \u001b[38;5;28;01melse\u001b[39;00m:\n",
      "File \u001b[0;32m/nfs/cms/martialc/.conda/envs/dtupy-analysis/lib/python3.12/site-packages/pandas/core/frame.py:778\u001b[0m, in \u001b[0;36mDataFrame.__init__\u001b[0;34m(self, data, index, columns, dtype, copy)\u001b[0m\n\u001b[1;32m    776\u001b[0m \u001b[38;5;28;01melif\u001b[39;00m \u001b[38;5;28misinstance\u001b[39m(data, \u001b[38;5;28mdict\u001b[39m):\n\u001b[1;32m    777\u001b[0m     \u001b[38;5;66;03m# GH#38939 de facto copy defaults to False only in non-dict cases\u001b[39;00m\n\u001b[0;32m--> 778\u001b[0m     mgr \u001b[38;5;241m=\u001b[39m dict_to_mgr(data, index, columns, dtype\u001b[38;5;241m=\u001b[39mdtype, copy\u001b[38;5;241m=\u001b[39mcopy, typ\u001b[38;5;241m=\u001b[39mmanager)\n\u001b[1;32m    779\u001b[0m \u001b[38;5;28;01melif\u001b[39;00m \u001b[38;5;28misinstance\u001b[39m(data, ma\u001b[38;5;241m.\u001b[39mMaskedArray):\n",
      "File \u001b[0;32m/nfs/cms/martialc/.conda/envs/dtupy-analysis/lib/python3.12/site-packages/pandas/core/internals/construction.py:503\u001b[0m, in \u001b[0;36mdict_to_mgr\u001b[0;34m(data, index, columns, dtype, typ, copy)\u001b[0m\n\u001b[1;32m    501\u001b[0m         arrays \u001b[38;5;241m=\u001b[39m [x\u001b[38;5;241m.\u001b[39mcopy() \u001b[38;5;28;01mif\u001b[39;00m \u001b[38;5;28mhasattr\u001b[39m(x, \u001b[38;5;124m\"\u001b[39m\u001b[38;5;124mdtype\u001b[39m\u001b[38;5;124m\"\u001b[39m) \u001b[38;5;28;01melse\u001b[39;00m x \u001b[38;5;28;01mfor\u001b[39;00m x \u001b[38;5;129;01min\u001b[39;00m arrays]\n\u001b[0;32m--> 503\u001b[0m \u001b[38;5;28;01mreturn\u001b[39;00m arrays_to_mgr(arrays, columns, index, dtype\u001b[38;5;241m=\u001b[39mdtype, typ\u001b[38;5;241m=\u001b[39mtyp, consolidate\u001b[38;5;241m=\u001b[39mcopy)\n",
      "File \u001b[0;32m/nfs/cms/martialc/.conda/envs/dtupy-analysis/lib/python3.12/site-packages/pandas/core/internals/construction.py:114\u001b[0m, in \u001b[0;36marrays_to_mgr\u001b[0;34m(arrays, columns, index, dtype, verify_integrity, typ, consolidate)\u001b[0m\n\u001b[1;32m    113\u001b[0m \u001b[38;5;28;01mif\u001b[39;00m index \u001b[38;5;129;01mis\u001b[39;00m \u001b[38;5;28;01mNone\u001b[39;00m:\n\u001b[0;32m--> 114\u001b[0m     index \u001b[38;5;241m=\u001b[39m _extract_index(arrays)\n\u001b[1;32m    115\u001b[0m \u001b[38;5;28;01melse\u001b[39;00m:\n",
      "File \u001b[0;32m/nfs/cms/martialc/.conda/envs/dtupy-analysis/lib/python3.12/site-packages/pandas/core/internals/construction.py:667\u001b[0m, in \u001b[0;36m_extract_index\u001b[0;34m(data)\u001b[0m\n\u001b[1;32m    666\u001b[0m \u001b[38;5;28;01mif\u001b[39;00m \u001b[38;5;129;01mnot\u001b[39;00m indexes \u001b[38;5;129;01mand\u001b[39;00m \u001b[38;5;129;01mnot\u001b[39;00m raw_lengths:\n\u001b[0;32m--> 667\u001b[0m     \u001b[38;5;28;01mraise\u001b[39;00m \u001b[38;5;167;01mValueError\u001b[39;00m(\u001b[38;5;124m\"\u001b[39m\u001b[38;5;124mIf using all scalar values, you must pass an index\u001b[39m\u001b[38;5;124m\"\u001b[39m)\n\u001b[1;32m    669\u001b[0m \u001b[38;5;28;01mif\u001b[39;00m have_series:\n",
      "\u001b[0;31mValueError\u001b[0m: If using all scalar values, you must pass an index",
      "\nDuring handling of the above exception, another exception occurred:\n",
      "\u001b[0;31mValueError\u001b[0m                                Traceback (most recent call last)",
      "Cell \u001b[0;32mIn[5], line 7\u001b[0m\n\u001b[1;32m      3\u001b[0m output \u001b[38;5;241m=\u001b[39m Path(\u001b[38;5;124mf\u001b[39m\u001b[38;5;124m'\u001b[39m\u001b[38;5;124m/nfs/cms/martialc/DTUpgrade/data/\u001b[39m\u001b[38;5;132;01m{\u001b[39;00mdataset\u001b[38;5;132;01m}\u001b[39;00m\u001b[38;5;124m.fits\u001b[39m\u001b[38;5;124m'\u001b[39m)\n\u001b[1;32m      5\u001b[0m musgos \u001b[38;5;241m=\u001b[39m []\n\u001b[0;32m----> 7\u001b[0m \u001b[38;5;28;01mwith\u001b[39;00m MuSTIO(dataset, dataset\u001b[38;5;241m+\u001b[39m\u001b[38;5;124m'\u001b[39m\u001b[38;5;124m_100\u001b[39m\u001b[38;5;124m'\u001b[39m, batch_size \u001b[38;5;241m=\u001b[39m \u001b[38;5;241m3e2\u001b[39m) \u001b[38;5;28;01mas\u001b[39;00m mustio:\n\u001b[1;32m      8\u001b[0m     pqwriter \u001b[38;5;241m=\u001b[39m \u001b[38;5;28;01mNone\u001b[39;00m\n\u001b[1;32m      9\u001b[0m     \u001b[38;5;28;01mfor\u001b[39;00m i, data \u001b[38;5;129;01min\u001b[39;00m \u001b[38;5;28menumerate\u001b[39m(mustio):\n",
      "File \u001b[0;32m/nfs/cms/martialc/DTUpgrade/src/dtupy_analysis/dqm/core/classes/MuFile.py:61\u001b[0m, in \u001b[0;36mMuFile.__exit__\u001b[0;34m(self, exc_type, exc_val, exc_tb)\u001b[0m\n\u001b[1;32m     59\u001b[0m \u001b[38;5;28;01mdef\u001b[39;00m \u001b[38;5;21m__exit__\u001b[39m(\u001b[38;5;28mself\u001b[39m, exc_type : \u001b[38;5;167;01mException\u001b[39;00m, exc_val, exc_tb):\n\u001b[1;32m     60\u001b[0m     \u001b[38;5;28;01mif\u001b[39;00m exc_type:\n\u001b[0;32m---> 61\u001b[0m         \u001b[38;5;28;01mraise\u001b[39;00m exc_type(exc_val)\u001b[38;5;241m.\u001b[39mwith_traceback(exc_tb)\n\u001b[1;32m     63\u001b[0m     \u001b[38;5;28mself\u001b[39m\u001b[38;5;241m.\u001b[39m_parquet\u001b[38;5;241m.\u001b[39mclose()\n\u001b[1;32m     64\u001b[0m     \u001b[38;5;28;01mreturn\u001b[39;00m \u001b[38;5;28mself\u001b[39m\u001b[38;5;241m.\u001b[39m_parquet\u001b[38;5;241m.\u001b[39mclosed\n",
      "Cell \u001b[0;32mIn[5], line 13\u001b[0m\n\u001b[1;32m     11\u001b[0m musgo\u001b[38;5;241m.\u001b[39mfit(v_drift \u001b[38;5;241m=\u001b[39m u\u001b[38;5;241m.\u001b[39mV_DRIFT, do_bar \u001b[38;5;241m=\u001b[39m \u001b[38;5;28;01mTrue\u001b[39;00m)\n\u001b[1;32m     12\u001b[0m musgos\u001b[38;5;241m.\u001b[39mappend(musgo)\n\u001b[0;32m---> 13\u001b[0m df \u001b[38;5;241m=\u001b[39m musgo\u001b[38;5;241m.\u001b[39mflatten()\n\u001b[1;32m     14\u001b[0m skip_rows \u001b[38;5;241m=\u001b[39m np\u001b[38;5;241m.\u001b[39misin(df\u001b[38;5;241m.\u001b[39mhits, mustio\u001b[38;5;241m.\u001b[39mmemory\u001b[38;5;241m.\u001b[39mhits)\n\u001b[1;32m     16\u001b[0m pqwriter \u001b[38;5;241m=\u001b[39m musgo\u001b[38;5;241m.\u001b[39mexport(dataset, pqwriter\u001b[38;5;241m=\u001b[39mpqwriter, skip_rows\u001b[38;5;241m=\u001b[39mskip_rows)\n",
      "File \u001b[0;32m/nfs/cms/martialc/DTUpgrade/src/dtupy_analysis/dqm/reco/classes/MuSGO.py:110\u001b[0m, in \u001b[0;36mMuSGO.flatten\u001b[0;34m(self)\u001b[0m\n\u001b[1;32m    109\u001b[0m \u001b[38;5;28;01mdef\u001b[39;00m \u001b[38;5;21mflatten\u001b[39m(\u001b[38;5;28mself\u001b[39m):\n\u001b[0;32m--> 110\u001b[0m     df \u001b[38;5;241m=\u001b[39m pd\u001b[38;5;241m.\u001b[39mconcat([muse\u001b[38;5;241m.\u001b[39mflatten() \u001b[38;5;28;01mfor\u001b[39;00m muse \u001b[38;5;129;01min\u001b[39;00m \u001b[38;5;28mself\u001b[39m\u001b[38;5;241m.\u001b[39mmuses], ignore_index\u001b[38;5;241m=\u001b[39m\u001b[38;5;28;01mTrue\u001b[39;00m)\\\n\u001b[1;32m    111\u001b[0m                 \u001b[38;5;241m.\u001b[39mdrop_duplicates(\u001b[38;5;124m'\u001b[39m\u001b[38;5;124mseg_idx\u001b[39m\u001b[38;5;124m'\u001b[39m)\\\n\u001b[1;32m    112\u001b[0m                 \u001b[38;5;241m.\u001b[39mastype({\u001b[38;5;124m'\u001b[39m\u001b[38;5;124mpattID\u001b[39m\u001b[38;5;124m'\u001b[39m:\u001b[38;5;124m'\u001b[39m\u001b[38;5;124mcategory\u001b[39m\u001b[38;5;124m'\u001b[39m})\n\u001b[1;32m    114\u001b[0m     \u001b[38;5;28;01mif\u001b[39;00m \u001b[38;5;124m'\u001b[39m\u001b[38;5;124mlatsID\u001b[39m\u001b[38;5;124m'\u001b[39m \u001b[38;5;129;01min\u001b[39;00m df\u001b[38;5;241m.\u001b[39mcolumns: df \u001b[38;5;241m=\u001b[39m df\u001b[38;5;241m.\u001b[39mastype({\u001b[38;5;124m'\u001b[39m\u001b[38;5;124mlatsID\u001b[39m\u001b[38;5;124m'\u001b[39m:\u001b[38;5;124m'\u001b[39m\u001b[38;5;124mcategory\u001b[39m\u001b[38;5;124m'\u001b[39m})\n\u001b[1;32m    115\u001b[0m     \u001b[38;5;28;01mreturn\u001b[39;00m df\u001b[38;5;241m.\u001b[39mcopy(deep\u001b[38;5;241m=\u001b[39m\u001b[38;5;28;01mTrue\u001b[39;00m)\n",
      "File \u001b[0;32m/nfs/cms/martialc/DTUpgrade/src/dtupy_analysis/dqm/reco/classes/MuSE.py:222\u001b[0m, in \u001b[0;36mMuSE.flatten\u001b[0;34m(self)\u001b[0m\n\u001b[1;32m    220\u001b[0m new_dict[\u001b[38;5;124m'\u001b[39m\u001b[38;5;124mpattID\u001b[39m\u001b[38;5;124m'\u001b[39m] \u001b[38;5;241m=\u001b[39m \u001b[38;5;28mstr\u001b[39m(\u001b[38;5;28mself\u001b[39m\u001b[38;5;241m.\u001b[39mpattID)\n\u001b[1;32m    221\u001b[0m \u001b[38;5;28;01mif\u001b[39;00m \u001b[38;5;28mself\u001b[39m\u001b[38;5;241m.\u001b[39mstats \u001b[38;5;129;01mis\u001b[39;00m \u001b[38;5;129;01mnot\u001b[39;00m \u001b[38;5;28;01mNone\u001b[39;00m:\n\u001b[0;32m--> 222\u001b[0m     df \u001b[38;5;241m=\u001b[39m pd\u001b[38;5;241m.\u001b[39mconcat([pd\u001b[38;5;241m.\u001b[39mDataFrame(new_dict), \u001b[38;5;28mself\u001b[39m\u001b[38;5;241m.\u001b[39mbest_fit\u001b[38;5;241m.\u001b[39mreset_index(drop\u001b[38;5;241m=\u001b[39m\u001b[38;5;28;01mTrue\u001b[39;00m)\u001b[38;5;241m.\u001b[39mdrop(columns\u001b[38;5;241m=\u001b[39m[\u001b[38;5;124m'\u001b[39m\u001b[38;5;124mseg_idx\u001b[39m\u001b[38;5;124m'\u001b[39m])], axis\u001b[38;5;241m=\u001b[39m\u001b[38;5;241m1\u001b[39m)\u001b[38;5;241m.\u001b[39mastype({\u001b[38;5;124m'\u001b[39m\u001b[38;5;124mlatsID\u001b[39m\u001b[38;5;124m'\u001b[39m:\u001b[38;5;28mstr\u001b[39m})\n\u001b[1;32m    223\u001b[0m \u001b[38;5;28;01melse\u001b[39;00m:\n\u001b[1;32m    224\u001b[0m     df \u001b[38;5;241m=\u001b[39m pd\u001b[38;5;241m.\u001b[39mDataFrame(new_dict)\u001b[38;5;241m.\u001b[39mreset_index(drop\u001b[38;5;241m=\u001b[39m\u001b[38;5;28;01mTrue\u001b[39;00m)\n",
      "File \u001b[0;32m/nfs/cms/martialc/.conda/envs/dtupy-analysis/lib/python3.12/site-packages/pandas/core/frame.py:778\u001b[0m, in \u001b[0;36mDataFrame.__init__\u001b[0;34m(self, data, index, columns, dtype, copy)\u001b[0m\n\u001b[1;32m    772\u001b[0m     mgr \u001b[38;5;241m=\u001b[39m \u001b[38;5;28mself\u001b[39m\u001b[38;5;241m.\u001b[39m_init_mgr(\n\u001b[1;32m    773\u001b[0m         data, axes\u001b[38;5;241m=\u001b[39m{\u001b[38;5;124m\"\u001b[39m\u001b[38;5;124mindex\u001b[39m\u001b[38;5;124m\"\u001b[39m: index, \u001b[38;5;124m\"\u001b[39m\u001b[38;5;124mcolumns\u001b[39m\u001b[38;5;124m\"\u001b[39m: columns}, dtype\u001b[38;5;241m=\u001b[39mdtype, copy\u001b[38;5;241m=\u001b[39mcopy\n\u001b[1;32m    774\u001b[0m     )\n\u001b[1;32m    776\u001b[0m \u001b[38;5;28;01melif\u001b[39;00m \u001b[38;5;28misinstance\u001b[39m(data, \u001b[38;5;28mdict\u001b[39m):\n\u001b[1;32m    777\u001b[0m     \u001b[38;5;66;03m# GH#38939 de facto copy defaults to False only in non-dict cases\u001b[39;00m\n\u001b[0;32m--> 778\u001b[0m     mgr \u001b[38;5;241m=\u001b[39m dict_to_mgr(data, index, columns, dtype\u001b[38;5;241m=\u001b[39mdtype, copy\u001b[38;5;241m=\u001b[39mcopy, typ\u001b[38;5;241m=\u001b[39mmanager)\n\u001b[1;32m    779\u001b[0m \u001b[38;5;28;01melif\u001b[39;00m \u001b[38;5;28misinstance\u001b[39m(data, ma\u001b[38;5;241m.\u001b[39mMaskedArray):\n\u001b[1;32m    780\u001b[0m     \u001b[38;5;28;01mfrom\u001b[39;00m \u001b[38;5;21;01mnumpy\u001b[39;00m\u001b[38;5;21;01m.\u001b[39;00m\u001b[38;5;21;01mma\u001b[39;00m \u001b[38;5;28;01mimport\u001b[39;00m mrecords\n",
      "File \u001b[0;32m/nfs/cms/martialc/.conda/envs/dtupy-analysis/lib/python3.12/site-packages/pandas/core/internals/construction.py:503\u001b[0m, in \u001b[0;36mdict_to_mgr\u001b[0;34m(data, index, columns, dtype, typ, copy)\u001b[0m\n\u001b[1;32m    499\u001b[0m     \u001b[38;5;28;01melse\u001b[39;00m:\n\u001b[1;32m    500\u001b[0m         \u001b[38;5;66;03m# dtype check to exclude e.g. range objects, scalars\u001b[39;00m\n\u001b[1;32m    501\u001b[0m         arrays \u001b[38;5;241m=\u001b[39m [x\u001b[38;5;241m.\u001b[39mcopy() \u001b[38;5;28;01mif\u001b[39;00m \u001b[38;5;28mhasattr\u001b[39m(x, \u001b[38;5;124m\"\u001b[39m\u001b[38;5;124mdtype\u001b[39m\u001b[38;5;124m\"\u001b[39m) \u001b[38;5;28;01melse\u001b[39;00m x \u001b[38;5;28;01mfor\u001b[39;00m x \u001b[38;5;129;01min\u001b[39;00m arrays]\n\u001b[0;32m--> 503\u001b[0m \u001b[38;5;28;01mreturn\u001b[39;00m arrays_to_mgr(arrays, columns, index, dtype\u001b[38;5;241m=\u001b[39mdtype, typ\u001b[38;5;241m=\u001b[39mtyp, consolidate\u001b[38;5;241m=\u001b[39mcopy)\n",
      "File \u001b[0;32m/nfs/cms/martialc/.conda/envs/dtupy-analysis/lib/python3.12/site-packages/pandas/core/internals/construction.py:114\u001b[0m, in \u001b[0;36marrays_to_mgr\u001b[0;34m(arrays, columns, index, dtype, verify_integrity, typ, consolidate)\u001b[0m\n\u001b[1;32m    111\u001b[0m \u001b[38;5;28;01mif\u001b[39;00m verify_integrity:\n\u001b[1;32m    112\u001b[0m     \u001b[38;5;66;03m# figure out the index, if necessary\u001b[39;00m\n\u001b[1;32m    113\u001b[0m     \u001b[38;5;28;01mif\u001b[39;00m index \u001b[38;5;129;01mis\u001b[39;00m \u001b[38;5;28;01mNone\u001b[39;00m:\n\u001b[0;32m--> 114\u001b[0m         index \u001b[38;5;241m=\u001b[39m _extract_index(arrays)\n\u001b[1;32m    115\u001b[0m     \u001b[38;5;28;01melse\u001b[39;00m:\n\u001b[1;32m    116\u001b[0m         index \u001b[38;5;241m=\u001b[39m ensure_index(index)\n",
      "File \u001b[0;32m/nfs/cms/martialc/.conda/envs/dtupy-analysis/lib/python3.12/site-packages/pandas/core/internals/construction.py:667\u001b[0m, in \u001b[0;36m_extract_index\u001b[0;34m(data)\u001b[0m\n\u001b[1;32m    664\u001b[0m         \u001b[38;5;28;01mraise\u001b[39;00m \u001b[38;5;167;01mValueError\u001b[39;00m(\u001b[38;5;124m\"\u001b[39m\u001b[38;5;124mPer-column arrays must each be 1-dimensional\u001b[39m\u001b[38;5;124m\"\u001b[39m)\n\u001b[1;32m    666\u001b[0m \u001b[38;5;28;01mif\u001b[39;00m \u001b[38;5;129;01mnot\u001b[39;00m indexes \u001b[38;5;129;01mand\u001b[39;00m \u001b[38;5;129;01mnot\u001b[39;00m raw_lengths:\n\u001b[0;32m--> 667\u001b[0m     \u001b[38;5;28;01mraise\u001b[39;00m \u001b[38;5;167;01mValueError\u001b[39;00m(\u001b[38;5;124m\"\u001b[39m\u001b[38;5;124mIf using all scalar values, you must pass an index\u001b[39m\u001b[38;5;124m\"\u001b[39m)\n\u001b[1;32m    669\u001b[0m \u001b[38;5;28;01mif\u001b[39;00m have_series:\n\u001b[1;32m    670\u001b[0m     index \u001b[38;5;241m=\u001b[39m union_indexes(indexes)\n",
      "\u001b[0;31mValueError\u001b[0m: If using all scalar values, you must pass an index"
     ]
    }
   ],
   "source": [
    "dataset = 'cosmic_240904_long'\n",
    "# dataset = 'testpulse_240802'\n",
    "output = Path(f'/nfs/cms/martialc/DTUpgrade/data/{dataset}.fits')\n",
    "\n",
    "musgos = []\n",
    "\n",
    "with MuSTIO(dataset, dataset+'_100', batch_size = 3e2) as mustio:\n",
    "    pqwriter = None\n",
    "    for i, data in enumerate(mustio):\n",
    "        musgo = MuSGO(data, mustio.segments)\n",
    "        musgo.fit(v_drift = u.V_DRIFT, do_bar = True)\n",
    "        musgos.append(musgo)\n",
    "        df = musgo.flatten()\n",
    "        skip_rows = np.isin(df.hits, mustio.memory.hits)\n",
    "        \n",
    "        pqwriter = musgo.export(dataset, pqwriter=pqwriter, skip_rows=skip_rows)\n",
    "        if i != 2: mustio.memory.hits = df.hits\n",
    "        \n",
    "        if i == 2:\n",
    "            break\n",
    "    pqwriter.close()\n",
    "# musgo = MuSGO(data, mustio.segments)"
   ]
  },
  {
   "cell_type": "code",
   "execution_count": null,
   "metadata": {},
   "outputs": [],
   "source": [
    "display(musgos[-1].segments)"
   ]
  },
  {
   "cell_type": "code",
   "execution_count": null,
   "metadata": {},
   "outputs": [],
   "source": [
    "total = 0\n",
    "prev_idx = []\n",
    "for i in range(len(musgos)):\n",
    "    hits = musgos[i].flatten().hits\n",
    "    print('hits:\\n', hits, '\\nprevious:\\n', prev_idx, '\\n# repeated:\\n', np.isin(hits, prev_idx).sum(),'\\n')\n",
    "    total+= (~np.isin(hits, prev_idx)).sum()\n",
    "    prev_idx = hits\n",
    "display(total)\n",
    "\n"
   ]
  },
  {
   "cell_type": "code",
   "execution_count": null,
   "metadata": {},
   "outputs": [],
   "source": [
    "dataset = 'cosmic_240904_long'\n",
    "# dataset = 'testpulse_240802'\n",
    "output = Path(f'/nfs/cms/martialc/DTUpgrade/data/{dataset}.fits')\n",
    "\n",
    "\n",
    "with MuSTIO(dataset, batch_size = 3e2) as mustio:\n",
    "    pqwriter = None\n",
    "    schema = None\n",
    "    for i, data in enumerate(mustio):\n",
    "        musgo = MuSGO(data, mustio.segments)\n",
    "        musgo.fit(v_drift = u.V_DRIFT, do_bar = True)\n",
    "        df = musgo.flatten().astype({'pattID':str, 'latsID':str})\n",
    "        repeated = np.isin(df.hits, mustio.memory.hits)\n",
    "        \n",
    "        mustio.memory.hits = df.hits.values\n",
    "        \n",
    "        table = pa.Table.from_pandas(df[~repeated], preserve_index = False)\n",
    "        if pqwriter is None:\n",
    "            df_schema = table.schema\n",
    "            schema = df_schema\n",
    "            data_types = {\n",
    "                'hits'  : pa.list_(pa.uint64(), list_size = -1),\n",
    "                'sl'    : pa.uint8(),\n",
    "                'pattID': pa.dictionary(pa.uint8(), pa.string()),\n",
    "                'latsID': pa.dictionary(pa.uint8(), pa.string()),\n",
    "            }\n",
    "            \n",
    "            schema = pa.schema({field.name : data_types.get(field.name, field.type) for field in df_schema})\n",
    "            \n",
    "            pqwriter = pq.ParquetWriter(output, schema)\n",
    "        \n",
    "        table = table.cast(schema)\n",
    "        pqwriter.write_table(table)\n",
    "        if i == 2:\n",
    "            break\n",
    "    pqwriter.close()\n",
    "# musgo = MuSGO(data, mustio.segments)"
   ]
  },
  {
   "cell_type": "raw",
   "metadata": {
    "vscode": {
     "languageId": "raw"
    }
   },
   "source": [
    "! du -h /nfs/cms/martialc/DTUpgrade/data/cosmic_240904_long.*\n",
    "! du -h  /afs/cern.ch/user/r/redondo/work/public/sxa5/cosmic_test_0409_2.txt"
   ]
  },
  {
   "cell_type": "code",
   "execution_count": null,
   "metadata": {},
   "outputs": [],
   "source": [
    "musgo.flatten().tail(15)"
   ]
  },
  {
   "cell_type": "code",
   "execution_count": 40,
   "metadata": {},
   "outputs": [],
   "source": [
    "overlap = np.isin(musgo_1.flatten().hits, musgo_0.flatten().hits)\n",
    "full_df = pd.concat([musgo_0.flatten(), musgo_1.flatten().iloc[~overlap]])"
   ]
  },
  {
   "cell_type": "code",
   "execution_count": null,
   "metadata": {},
   "outputs": [],
   "source": [
    "len(full_df) / (len(musgo_0.flatten()) + len(musgo_1.flatten())) * 100"
   ]
  },
  {
   "cell_type": "code",
   "execution_count": null,
   "metadata": {},
   "outputs": [],
   "source": [
    "musgo.flatten()"
   ]
  }
 ],
 "metadata": {
  "kernelspec": {
   "display_name": "dtupy-analysis",
   "language": "python",
   "name": "python3"
  },
  "language_info": {
   "codemirror_mode": {
    "name": "ipython",
    "version": 3
   },
   "file_extension": ".py",
   "mimetype": "text/x-python",
   "name": "python",
   "nbconvert_exporter": "python",
   "pygments_lexer": "ipython3",
   "version": "3.12.3"
  }
 },
 "nbformat": 4,
 "nbformat_minor": 2
}
