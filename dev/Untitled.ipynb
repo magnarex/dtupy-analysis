{
 "cells": [
  {
   "cell_type": "code",
   "execution_count": 2,
   "id": "27e4625a-9d9f-4dc0-94eb-4d951aa63c6b",
   "metadata": {},
   "outputs": [],
   "source": [
    "import sys, os\n",
    "sys.path.insert(1, '/nfs/cms/martialc/DTUpgrade/src')"
   ]
  },
  {
   "cell_type": "code",
   "execution_count": 4,
   "id": "2aea4abe-b844-46a1-94fc-e600073e374e",
   "metadata": {},
   "outputs": [],
   "source": [
    "from muTel.utils.paths import load_yaml, config_directory\n",
    "from pathlib import Path\n",
    "import numpy as np"
   ]
  },
  {
   "cell_type": "code",
   "execution_count": 5,
   "id": "fea5bbc1-c305-4f9d-9b50-2fd26dba438a",
   "metadata": {},
   "outputs": [],
   "source": [
    "cfg = load_yaml('cosmic', config_directory / Path('daq/mapping'))"
   ]
  },
  {
   "cell_type": "code",
   "execution_count": 14,
   "id": "7215844b-5d7f-437a-a864-9525d175aa29",
   "metadata": {},
   "outputs": [
    {
     "data": {
      "text/plain": [
       "array([['1', '1'],\n",
       "       ['1', '2']], dtype='<U21')"
      ]
     },
     "execution_count": 14,
     "metadata": {},
     "output_type": "execute_result"
    }
   ],
   "source": [
    "np.unique(np.stack(list(cfg['connectors'][14].values()))[:,:-1], axis=0)"
   ]
  }
 ],
 "metadata": {
  "kernelspec": {
   "display_name": "Python 3 (ipykernel)",
   "language": "python",
   "name": "python3"
  },
  "language_info": {
   "codemirror_mode": {
    "name": "ipython",
    "version": 3
   },
   "file_extension": ".py",
   "mimetype": "text/x-python",
   "name": "python",
   "nbconvert_exporter": "python",
   "pygments_lexer": "ipython3",
   "version": "3.9.18"
  }
 },
 "nbformat": 4,
 "nbformat_minor": 5
}
