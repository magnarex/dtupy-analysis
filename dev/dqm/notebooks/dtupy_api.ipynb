{
 "cells": [
  {
   "cell_type": "code",
   "execution_count": 1,
   "metadata": {},
   "outputs": [],
   "source": [
    "import sys, os\n",
    "sys.path.insert(1, '/nfs/cms/martialc/DTUpgrade/src')"
   ]
  },
  {
   "cell_type": "code",
   "execution_count": 2,
   "metadata": {},
   "outputs": [],
   "source": [
    "%load_ext autoreload\n",
    "%autoreload 2\n",
    "\n",
    "import dtupy_analysis\n",
    "import dtupy_analysis.dqm as dqm\n",
    "import pandas as pd\n",
    "import dask.dataframe as dd\n",
    "import dask.array as da\n",
    "import numpy as np\n",
    "import matplotlib.pyplot as plt\n",
    "import matplotlib as mpl\n",
    "import pyarrow as pa\n",
    "import pyarrow.parquet as pq\n",
    "import dask"
   ]
  },
  {
   "cell_type": "code",
   "execution_count": 3,
   "metadata": {},
   "outputs": [],
   "source": [
    "file = '/nfs/cms/martialc/DTUpgrade/data/sxa5_240802_full.parquet'\n",
    "mudata = dqm.MuData.from_parquet(file)"
   ]
  },
  {
   "cell_type": "code",
   "execution_count": 4,
   "metadata": {},
   "outputs": [
    {
     "data": {
      "text/plain": [
       "<dtupy_analysis.dqm.classes.MuSL.MuSL at 0x7f679702bc90>"
      ]
     },
     "execution_count": 4,
     "metadata": {},
     "output_type": "execute_result"
    }
   ],
   "source": [
    "mudata.get_ssl(1,1)"
   ]
  },
  {
   "cell_type": "code",
   "execution_count": 12,
   "metadata": {},
   "outputs": [
    {
     "data": {
      "text/plain": [
       "15.999977986052738"
      ]
     },
     "execution_count": 12,
     "metadata": {},
     "output_type": "execute_result"
    }
   ],
   "source": [
    "import numpy as np\n",
    "np.log(0xFFFF)/np.log(2)"
   ]
  },
  {
   "cell_type": "code",
   "execution_count": 5,
   "metadata": {},
   "outputs": [],
   "source": [
    "from dtupy_analysis.dqm.pairing import matrix_diff, distance_matrix, pair_hits\n"
   ]
  },
  {
   "cell_type": "code",
   "execution_count": 7,
   "metadata": {},
   "outputs": [
    {
     "name": "stderr",
     "output_type": "stream",
     "text": [
      "/nfs/cms/martialc/.conda/envs/dtupy-analysis/lib/python3.11/site-packages/dask/array/core.py:4888: PerformanceWarning: Increasing number of chunks by factor of 42\n",
      "  result = blockwise(\n"
     ]
    },
    {
     "ename": "ValueError",
     "evalue": "too many values to unpack (expected 2)",
     "output_type": "error",
     "traceback": [
      "\u001b[0;31m---------------------------------------------------------------------------\u001b[0m",
      "\u001b[0;31mValueError\u001b[0m                                Traceback (most recent call last)",
      "Cell \u001b[0;32mIn[7], line 1\u001b[0m\n\u001b[0;32m----> 1\u001b[0m d_bx, mask \u001b[38;5;241m=\u001b[39m matrix_diff(mudata\u001b[38;5;241m.\u001b[39mget_ssl(\u001b[38;5;241m1\u001b[39m,\u001b[38;5;241m1\u001b[39m)\u001b[38;5;241m.\u001b[39mdata, \u001b[38;5;241m1\u001b[39m, \u001b[38;5;241m2\u001b[39m, \u001b[38;5;124m'\u001b[39m\u001b[38;5;124mbx\u001b[39m\u001b[38;5;124m'\u001b[39m)\n\u001b[1;32m      2\u001b[0m d_bx\n\u001b[1;32m      3\u001b[0m \u001b[38;5;66;03m# d_bx = matrix_diff(mudata.get_ssl(1,1).data, 1, 2, 'bx').rechunk(block_size_limit='400MB')\u001b[39;00m\n",
      "\u001b[0;31mValueError\u001b[0m: too many values to unpack (expected 2)"
     ]
    }
   ],
   "source": [
    "d_bx = matrix_diff(mudata.get_ssl(1,1).data, 1, 2, 'bx')\n",
    "d_bx\n",
    "# d_bx = matrix_diff(mudata.get_ssl(1,1).data, 1, 2, 'bx').rechunk(block_size_limit='400MB')"
   ]
  },
  {
   "cell_type": "code",
   "execution_count": 8,
   "metadata": {},
   "outputs": [
    {
     "name": "stderr",
     "output_type": "stream",
     "text": [
      "/nfs/cms/martialc/.conda/envs/dtupy-analysis/lib/python3.11/site-packages/dask/array/core.py:4888: PerformanceWarning: Increasing number of chunks by factor of 42\n",
      "  result = blockwise(\n",
      "/nfs/cms/martialc/.conda/envs/dtupy-analysis/lib/python3.11/site-packages/dask/array/core.py:4888: PerformanceWarning: Increasing number of chunks by factor of 42\n",
      "  result = blockwise(\n",
      "/nfs/cms/martialc/.conda/envs/dtupy-analysis/lib/python3.11/site-packages/dask/array/core.py:4888: PerformanceWarning: Increasing number of chunks by factor of 42\n",
      "  result = blockwise(\n",
      "/nfs/cms/martialc/.conda/envs/dtupy-analysis/lib/python3.11/site-packages/dask/array/core.py:4888: PerformanceWarning: Increasing number of chunks by factor of 42\n",
      "  result = blockwise(\n"
     ]
    },
    {
     "data": {
      "text/html": [
       "<table>\n",
       "    <tr>\n",
       "        <td>\n",
       "            <table style=\"border-collapse: collapse;\">\n",
       "                <thead>\n",
       "                    <tr>\n",
       "                        <td> </td>\n",
       "                        <th> Array </th>\n",
       "                        <th> Chunk </th>\n",
       "                    </tr>\n",
       "                </thead>\n",
       "                <tbody>\n",
       "                    \n",
       "                    <tr>\n",
       "                        <th> Bytes </th>\n",
       "                        <td> 4.15 TiB </td>\n",
       "                        <td> 380.37 MiB </td>\n",
       "                    </tr>\n",
       "                    \n",
       "                    <tr>\n",
       "                        <th> Shape </th>\n",
       "                        <td> (751753, 759171) </td>\n",
       "                        <td> (7026, 7096) </td>\n",
       "                    </tr>\n",
       "                    <tr>\n",
       "                        <th> Dask graph </th>\n",
       "                        <td colspan=\"2\"> 38612 chunks in 54 graph layers </td>\n",
       "                    </tr>\n",
       "                    <tr>\n",
       "                        <th> Data type </th>\n",
       "                        <td colspan=\"2\"> float64 numpy.ndarray </td>\n",
       "                    </tr>\n",
       "                </tbody>\n",
       "            </table>\n",
       "        </td>\n",
       "        <td>\n",
       "        <svg width=\"170\" height=\"168\" style=\"stroke:rgb(0,0,0);stroke-width:1\" >\n",
       "\n",
       "  <!-- Horizontal lines -->\n",
       "  <line x1=\"0\" y1=\"0\" x2=\"120\" y2=\"0\" style=\"stroke-width:2\" />\n",
       "  <line x1=\"0\" y1=\"6\" x2=\"120\" y2=\"6\" />\n",
       "  <line x1=\"0\" y1=\"12\" x2=\"120\" y2=\"12\" />\n",
       "  <line x1=\"0\" y1=\"18\" x2=\"120\" y2=\"18\" />\n",
       "  <line x1=\"0\" y1=\"25\" x2=\"120\" y2=\"25\" />\n",
       "  <line x1=\"0\" y1=\"31\" x2=\"120\" y2=\"31\" />\n",
       "  <line x1=\"0\" y1=\"37\" x2=\"120\" y2=\"37\" />\n",
       "  <line x1=\"0\" y1=\"43\" x2=\"120\" y2=\"43\" />\n",
       "  <line x1=\"0\" y1=\"49\" x2=\"120\" y2=\"49\" />\n",
       "  <line x1=\"0\" y1=\"56\" x2=\"120\" y2=\"56\" />\n",
       "  <line x1=\"0\" y1=\"62\" x2=\"120\" y2=\"62\" />\n",
       "  <line x1=\"0\" y1=\"68\" x2=\"120\" y2=\"68\" />\n",
       "  <line x1=\"0\" y1=\"74\" x2=\"120\" y2=\"74\" />\n",
       "  <line x1=\"0\" y1=\"81\" x2=\"120\" y2=\"81\" />\n",
       "  <line x1=\"0\" y1=\"87\" x2=\"120\" y2=\"87\" />\n",
       "  <line x1=\"0\" y1=\"93\" x2=\"120\" y2=\"93\" />\n",
       "  <line x1=\"0\" y1=\"99\" x2=\"120\" y2=\"99\" />\n",
       "  <line x1=\"0\" y1=\"105\" x2=\"120\" y2=\"105\" />\n",
       "  <line x1=\"0\" y1=\"112\" x2=\"120\" y2=\"112\" />\n",
       "  <line x1=\"0\" y1=\"118\" x2=\"120\" y2=\"118\" style=\"stroke-width:2\" />\n",
       "\n",
       "  <!-- Vertical lines -->\n",
       "  <line x1=\"0\" y1=\"0\" x2=\"0\" y2=\"118\" style=\"stroke-width:2\" />\n",
       "  <line x1=\"6\" y1=\"0\" x2=\"6\" y2=\"118\" />\n",
       "  <line x1=\"12\" y1=\"0\" x2=\"12\" y2=\"118\" />\n",
       "  <line x1=\"18\" y1=\"0\" x2=\"18\" y2=\"118\" />\n",
       "  <line x1=\"25\" y1=\"0\" x2=\"25\" y2=\"118\" />\n",
       "  <line x1=\"31\" y1=\"0\" x2=\"31\" y2=\"118\" />\n",
       "  <line x1=\"37\" y1=\"0\" x2=\"37\" y2=\"118\" />\n",
       "  <line x1=\"44\" y1=\"0\" x2=\"44\" y2=\"118\" />\n",
       "  <line x1=\"50\" y1=\"0\" x2=\"50\" y2=\"118\" />\n",
       "  <line x1=\"56\" y1=\"0\" x2=\"56\" y2=\"118\" />\n",
       "  <line x1=\"63\" y1=\"0\" x2=\"63\" y2=\"118\" />\n",
       "  <line x1=\"69\" y1=\"0\" x2=\"69\" y2=\"118\" />\n",
       "  <line x1=\"75\" y1=\"0\" x2=\"75\" y2=\"118\" />\n",
       "  <line x1=\"81\" y1=\"0\" x2=\"81\" y2=\"118\" />\n",
       "  <line x1=\"88\" y1=\"0\" x2=\"88\" y2=\"118\" />\n",
       "  <line x1=\"94\" y1=\"0\" x2=\"94\" y2=\"118\" />\n",
       "  <line x1=\"100\" y1=\"0\" x2=\"100\" y2=\"118\" />\n",
       "  <line x1=\"106\" y1=\"0\" x2=\"106\" y2=\"118\" />\n",
       "  <line x1=\"113\" y1=\"0\" x2=\"113\" y2=\"118\" />\n",
       "  <line x1=\"120\" y1=\"0\" x2=\"120\" y2=\"118\" style=\"stroke-width:2\" />\n",
       "\n",
       "  <!-- Colored Rectangle -->\n",
       "  <polygon points=\"0.0,0.0 120.0,0.0 120.0,118.82745784546562 0.0,118.82745784546562\" style=\"fill:#8B4903A0;stroke-width:0\"/>\n",
       "\n",
       "  <!-- Text -->\n",
       "  <text x=\"60.000000\" y=\"138.827458\" font-size=\"1.0rem\" font-weight=\"100\" text-anchor=\"middle\" >759171</text>\n",
       "  <text x=\"140.000000\" y=\"59.413729\" font-size=\"1.0rem\" font-weight=\"100\" text-anchor=\"middle\" transform=\"rotate(-90,140.000000,59.413729)\">751753</text>\n",
       "</svg>\n",
       "        </td>\n",
       "    </tr>\n",
       "</table>"
      ],
      "text/plain": [
       "dask.array<where, shape=(751753, 759171), dtype=float64, chunksize=(7026, 7096), chunktype=numpy.ndarray>"
      ]
     },
     "execution_count": 8,
     "metadata": {},
     "output_type": "execute_result"
    }
   ],
   "source": [
    "diff_mat, mask = distance_matrix(mudata.get_ssl(1,1).data, 1, 2)\n",
    "diff_mat"
   ]
  },
  {
   "cell_type": "code",
   "execution_count": 6,
   "metadata": {},
   "outputs": [
    {
     "name": "stderr",
     "output_type": "stream",
     "text": [
      "/nfs/cms/martialc/.conda/envs/dtupy-analysis/lib/python3.11/site-packages/dask/array/core.py:4888: PerformanceWarning: Increasing number of chunks by factor of 42\n",
      "  result = blockwise(\n",
      "/nfs/cms/martialc/.conda/envs/dtupy-analysis/lib/python3.11/site-packages/dask/array/core.py:4888: PerformanceWarning: Increasing number of chunks by factor of 42\n",
      "  result = blockwise(\n",
      "/nfs/cms/martialc/.conda/envs/dtupy-analysis/lib/python3.11/site-packages/dask/array/core.py:4888: PerformanceWarning: Increasing number of chunks by factor of 42\n",
      "  result = blockwise(\n",
      "/nfs/cms/martialc/.conda/envs/dtupy-analysis/lib/python3.11/site-packages/dask/array/core.py:4888: PerformanceWarning: Increasing number of chunks by factor of 42\n",
      "  result = blockwise(\n"
     ]
    }
   ],
   "source": [
    "pairs, (row_min, col_min) = pair_hits(mudata.get_ssl(1,1).data, 1, 2)\n"
   ]
  }
 ],
 "metadata": {
  "kernelspec": {
   "display_name": "dtupy-analysis",
   "language": "python",
   "name": "python3"
  },
  "language_info": {
   "codemirror_mode": {
    "name": "ipython",
    "version": 3
   },
   "file_extension": ".py",
   "mimetype": "text/x-python",
   "name": "python",
   "nbconvert_exporter": "python",
   "pygments_lexer": "ipython3",
   "version": "3.11.9"
  }
 },
 "nbformat": 4,
 "nbformat_minor": 2
}
