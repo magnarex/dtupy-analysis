{
 "cells": [
  {
   "cell_type": "code",
   "execution_count": 1,
   "metadata": {},
   "outputs": [],
   "source": [
    "import sys, os\n",
    "sys.path.insert(1, '/nfs/cms/martialc/DTUpgrade/src')\n",
    "\n",
    "%load_ext autoreload\n",
    "%autoreload 2"
   ]
  },
  {
   "cell_type": "code",
   "execution_count": 2,
   "metadata": {},
   "outputs": [],
   "source": [
    "import pandas as pd\n",
    "import matplotlib.pyplot as plt\n",
    "import numpy as np\n",
    "import pathlib\n",
    "\n",
    "import dtupy_analysis.daqplotlib as dpl\n",
    "import dtupy_analysis.dqm as dqm\n",
    "from dtupy_analysis.dqm.pairing.segments import MuTE, distance_matrix, get_pairs\n",
    "from dtupy_analysis.dqm.reco import MuSGO, MuSTIO, MuSE, SegDF\n",
    "from dtupy_analysis.dqm import units as u"
   ]
  },
  {
   "cell_type": "code",
   "execution_count": 21,
   "metadata": {},
   "outputs": [],
   "source": [
    "dataset = \"cosmic_240904_long_noBounds\"\n",
    "fig_path = pathlib.Path(f\"/nfs/cms/martialc/DTUpgrade/figs/{dataset}/dqm\")\n",
    "fig_path.mkdir(exist_ok = True, parents=True)\n",
    "\n",
    "df = pd.read_parquet(f\"/nfs/cms/martialc/DTUpgrade/data/{dataset}.fits\")"
   ]
  },
  {
   "cell_type": "code",
   "execution_count": 22,
   "metadata": {},
   "outputs": [],
   "source": [
    "with dpl.plots.Hist(df, var = 'theta') as plot:\n",
    "    plot.fig.savefig(f\"/nfs/cms/martialc/DTUpgrade/figs/{dataset}/dqm/theta.png\", dpi=300)"
   ]
  },
  {
   "cell_type": "code",
   "execution_count": 23,
   "metadata": {},
   "outputs": [],
   "source": [
    "with dpl.plots.Hist(df, var = 'x0') as plot:\n",
    "    plot.fig.savefig(f\"/nfs/cms/martialc/DTUpgrade/figs/{dataset}/dqm/x0.png\", dpi=300)"
   ]
  },
  {
   "cell_type": "code",
   "execution_count": 24,
   "metadata": {},
   "outputs": [],
   "source": [
    "# with dpl.plots.Hist(df, var = 'chi2') as plot:\n",
    "#     plot.fig.savefig(f\"/nfs/cms/martialc/DTUpgrade/figs/{dataset}/dqm/x0.png\", dpi=300)"
   ]
  },
  {
   "cell_type": "code",
   "execution_count": 25,
   "metadata": {},
   "outputs": [],
   "source": [
    "with dpl.plots.Hist2D(df, 'x0', 'theta', figsize=(15,8), bins = (17*2, None), log_c=True) as plot:\n",
    "    plot.ax.tick_params(axis='y', which='minor', left=False, labelleft=False, right=False)\n",
    "    plot.ax.grid(which='both',axis='x')\n",
    "    plot.ax.grid(which='major',axis='y')\n",
    "    plot.fig.savefig(f\"/nfs/cms/martialc/DTUpgrade/figs/{dataset}/dqm/theta_vs_x0.png\", dpi=300)"
   ]
  },
  {
   "cell_type": "code",
   "execution_count": 32,
   "metadata": {},
   "outputs": [],
   "source": [
    "with dpl.plots.Hist2D(df, 'x0', 'theta', figsize=(15,8), bins = (17*10, None), log_c=True) as plot:\n",
    "    plot.ax.tick_params(axis='y', which='minor', left=False, labelleft=False, right=False)\n",
    "    plot.ax.grid(which='both',axis='x')\n",
    "    plot.ax.grid(which='major',axis='y')\n",
    "    plot.fig.savefig(f\"/nfs/cms/martialc/DTUpgrade/figs/{dataset}/dqm/theta_vs_x0_moreRes.png\", dpi=300)"
   ]
  },
  {
   "cell_type": "code",
   "execution_count": 29,
   "metadata": {},
   "outputs": [],
   "source": [
    "with dpl.plots.PattLats2D(df, log_c=True) as plot:\n",
    "    plot.fig.savefig(f\"/nfs/cms/martialc/DTUpgrade/figs/{dataset}/dqm/pattID_vs_latsID.png\", dpi=300)"
   ]
  },
  {
   "cell_type": "code",
   "execution_count": 31,
   "metadata": {},
   "outputs": [],
   "source": [
    "with dpl.plots.HistByPatt(df, 'x0') as plot:\n",
    "    plot.fig.savefig(f\"/nfs/cms/martialc/DTUpgrade/figs/{dataset}/dqm/x0_by_PattID.png\", dpi=300)\n",
    "\n",
    "with dpl.plots.HistByPatt(df[df.chi2<1], 'x0') as plot:\n",
    "    plot.fig.savefig(f\"/nfs/cms/martialc/DTUpgrade/figs/{dataset}/dqm/x0_by_PattID_chi2lt1.png\", dpi=300)"
   ]
  },
  {
   "cell_type": "code",
   "execution_count": 30,
   "metadata": {},
   "outputs": [],
   "source": [
    "with dpl.plots.HistByPatt(df, 'theta', reverse=True) as plot:\n",
    "    plot.fig.savefig(f\"/nfs/cms/martialc/DTUpgrade/figs/{dataset}/dqm/theta_by_PattID.png\", dpi=300)\n",
    "        \n",
    "with dpl.plots.HistByPatt(df[df.chi2<1], 'theta', reverse=True) as plot:\n",
    "    plot.fig.savefig(f\"/nfs/cms/martialc/DTUpgrade/figs/{dataset}/dqm/theta_by_PattID_chi2lt1.png\", dpi=300)"
   ]
  }
 ],
 "metadata": {
  "kernelspec": {
   "display_name": "dtupy-analysis",
   "language": "python",
   "name": "python3"
  },
  "language_info": {
   "codemirror_mode": {
    "name": "ipython",
    "version": 3
   },
   "file_extension": ".py",
   "mimetype": "text/x-python",
   "name": "python",
   "nbconvert_exporter": "python",
   "pygments_lexer": "ipython3",
   "version": "3.12.3"
  }
 },
 "nbformat": 4,
 "nbformat_minor": 2
}
